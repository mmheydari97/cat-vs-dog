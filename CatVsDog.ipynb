{
 "cells": [
  {
   "cell_type": "markdown",
   "metadata": {},
   "source": [
    "# Importing modules"
   ]
  },
  {
   "cell_type": "code",
   "execution_count": 1,
   "metadata": {
    "scrolled": true
   },
   "outputs": [
    {
     "name": "stderr",
     "output_type": "stream",
     "text": [
      "Using TensorFlow backend.\n"
     ]
    }
   ],
   "source": [
    "import os\n",
    "from keras.layers import Dense, Conv2D, MaxPooling2D, Flatten, BatchNormalization, ELU\n",
    "from keras.models import Sequential\n",
    "from keras.optimizers import Nadam\n",
    "from keras.preprocessing.image import ImageDataGenerator"
   ]
  },
  {
   "cell_type": "markdown",
   "metadata": {},
   "source": [
    "# train set and test set directory"
   ]
  },
  {
   "cell_type": "code",
   "execution_count": 2,
   "metadata": {},
   "outputs": [],
   "source": [
    "train_dir = os.path.join(os.curdir, \"dataset/train\")\n",
    "test_dir = os.path.join(os.curdir, \"dataset/test\")"
   ]
  },
  {
   "cell_type": "markdown",
   "metadata": {},
   "source": [
    "# Defining the model"
   ]
  },
  {
   "cell_type": "code",
   "execution_count": 3,
   "metadata": {},
   "outputs": [],
   "source": [
    "model = Sequential()\n",
    "\n",
    "model.add(Conv2D(32, (5, 5), input_shape=(160, 160, 3), activation='relu'))\n",
    "model.add(MaxPooling2D(2, 2))\n",
    "\n",
    "model.add(Conv2D(64, (3, 3), activation='relu'))\n",
    "model.add(MaxPooling2D(2, 2))\n",
    "\n",
    "model.add(Conv2D(128, (3, 3), activation='relu'))\n",
    "model.add(MaxPooling2D(2, 2))\n",
    "\n",
    "model.add(Conv2D(128, (3, 3), activation='relu'))\n",
    "model.add(MaxPooling2D(2, 2))\n",
    "\n",
    "model.add(Flatten())\n",
    "model.add(BatchNormalization())\n",
    "model.add(Dense(512))\n",
    "model.add(ELU())\n",
    "model.add(Dense(128))\n",
    "model.add(ELU())\n",
    "model.add(BatchNormalization())\n",
    "model.add(Dense(1, activation='sigmoid'))"
   ]
  },
  {
   "cell_type": "markdown",
   "metadata": {},
   "source": [
    "# Description of the model"
   ]
  },
  {
   "cell_type": "code",
   "execution_count": 4,
   "metadata": {},
   "outputs": [
    {
     "name": "stdout",
     "output_type": "stream",
     "text": [
      "_________________________________________________________________\n",
      "Layer (type)                 Output Shape              Param #   \n",
      "=================================================================\n",
      "conv2d_1 (Conv2D)            (None, 156, 156, 32)      2432      \n",
      "_________________________________________________________________\n",
      "max_pooling2d_1 (MaxPooling2 (None, 78, 78, 32)        0         \n",
      "_________________________________________________________________\n",
      "conv2d_2 (Conv2D)            (None, 76, 76, 64)        18496     \n",
      "_________________________________________________________________\n",
      "max_pooling2d_2 (MaxPooling2 (None, 38, 38, 64)        0         \n",
      "_________________________________________________________________\n",
      "conv2d_3 (Conv2D)            (None, 36, 36, 128)       73856     \n",
      "_________________________________________________________________\n",
      "max_pooling2d_3 (MaxPooling2 (None, 18, 18, 128)       0         \n",
      "_________________________________________________________________\n",
      "conv2d_4 (Conv2D)            (None, 16, 16, 128)       147584    \n",
      "_________________________________________________________________\n",
      "max_pooling2d_4 (MaxPooling2 (None, 8, 8, 128)         0         \n",
      "_________________________________________________________________\n",
      "flatten_1 (Flatten)          (None, 8192)              0         \n",
      "_________________________________________________________________\n",
      "batch_normalization_1 (Batch (None, 8192)              32768     \n",
      "_________________________________________________________________\n",
      "dense_1 (Dense)              (None, 512)               4194816   \n",
      "_________________________________________________________________\n",
      "elu_1 (ELU)                  (None, 512)               0         \n",
      "_________________________________________________________________\n",
      "dense_2 (Dense)              (None, 128)               65664     \n",
      "_________________________________________________________________\n",
      "elu_2 (ELU)                  (None, 128)               0         \n",
      "_________________________________________________________________\n",
      "batch_normalization_2 (Batch (None, 128)               512       \n",
      "_________________________________________________________________\n",
      "dense_3 (Dense)              (None, 1)                 129       \n",
      "=================================================================\n",
      "Total params: 4,536,257\n",
      "Trainable params: 4,519,617\n",
      "Non-trainable params: 16,640\n",
      "_________________________________________________________________\n",
      "None\n"
     ]
    }
   ],
   "source": [
    "print(model.summary())"
   ]
  },
  {
   "cell_type": "markdown",
   "metadata": {},
   "source": [
    "# Trying to load previous work"
   ]
  },
  {
   "cell_type": "code",
   "execution_count": 5,
   "metadata": {},
   "outputs": [
    {
     "name": "stdout",
     "output_type": "stream",
     "text": [
      "reading weights done.\n",
      "Found 12286 images belonging to 2 classes.\n",
      "Found 4298 images belonging to 2 classes.\n",
      "Epoch 1/30\n",
      "30/95 [========>.....................] - ETA: 47s - loss: 0.8180 - acc: 0.5652"
     ]
    },
    {
     "name": "stderr",
     "output_type": "stream",
     "text": [
      "/usr/lib/python3/dist-packages/PIL/TiffImagePlugin.py:739: UserWarning: Possibly corrupt EXIF data.  Expecting to read 80000 bytes but only got 0. Skipping tag 64640\n",
      "  \" Skipping tag %s\" % (size, len(data), tag))\n",
      "/usr/lib/python3/dist-packages/PIL/TiffImagePlugin.py:739: UserWarning: Possibly corrupt EXIF data.  Expecting to read 6553600 bytes but only got 0. Skipping tag 49\n",
      "  \" Skipping tag %s\" % (size, len(data), tag))\n",
      "/usr/lib/python3/dist-packages/PIL/TiffImagePlugin.py:739: UserWarning: Possibly corrupt EXIF data.  Expecting to read 1050744 bytes but only got 4951. Skipping tag 51\n",
      "  \" Skipping tag %s\" % (size, len(data), tag))\n",
      "/usr/lib/python3/dist-packages/PIL/TiffImagePlugin.py:739: UserWarning: Possibly corrupt EXIF data.  Expecting to read 293339136 bytes but only got 0. Skipping tag 5\n",
      "  \" Skipping tag %s\" % (size, len(data), tag))\n",
      "/usr/lib/python3/dist-packages/PIL/TiffImagePlugin.py:739: UserWarning: Possibly corrupt EXIF data.  Expecting to read 293863424 bytes but only got 0. Skipping tag 5\n",
      "  \" Skipping tag %s\" % (size, len(data), tag))\n",
      "/usr/lib/python3/dist-packages/PIL/TiffImagePlugin.py:739: UserWarning: Possibly corrupt EXIF data.  Expecting to read 3368026112 bytes but only got 0. Skipping tag 7\n",
      "  \" Skipping tag %s\" % (size, len(data), tag))\n",
      "/usr/lib/python3/dist-packages/PIL/TiffImagePlugin.py:739: UserWarning: Possibly corrupt EXIF data.  Expecting to read 134479872 bytes but only got 0. Skipping tag 7\n",
      "  \" Skipping tag %s\" % (size, len(data), tag))\n",
      "/usr/lib/python3/dist-packages/PIL/TiffImagePlugin.py:739: UserWarning: Possibly corrupt EXIF data.  Expecting to read 295698432 bytes but only got 0. Skipping tag 10\n",
      "  \" Skipping tag %s\" % (size, len(data), tag))\n",
      "/usr/lib/python3/dist-packages/PIL/TiffImagePlugin.py:739: UserWarning: Possibly corrupt EXIF data.  Expecting to read 296222720 bytes but only got 0. Skipping tag 5\n",
      "  \" Skipping tag %s\" % (size, len(data), tag))\n",
      "/usr/lib/python3/dist-packages/PIL/TiffImagePlugin.py:739: UserWarning: Possibly corrupt EXIF data.  Expecting to read 3300917248 bytes but only got 0. Skipping tag 7\n",
      "  \" Skipping tag %s\" % (size, len(data), tag))\n",
      "/usr/lib/python3/dist-packages/PIL/TiffImagePlugin.py:739: UserWarning: Possibly corrupt EXIF data.  Expecting to read 65536 bytes but only got 0. Skipping tag 3\n",
      "  \" Skipping tag %s\" % (size, len(data), tag))\n",
      "/usr/lib/python3/dist-packages/PIL/TiffImagePlugin.py:739: UserWarning: Possibly corrupt EXIF data.  Expecting to read 14745600 bytes but only got 0. Skipping tag 4\n",
      "  \" Skipping tag %s\" % (size, len(data), tag))\n",
      "/usr/lib/python3/dist-packages/PIL/TiffImagePlugin.py:739: UserWarning: Possibly corrupt EXIF data.  Expecting to read 25624576 bytes but only got 0. Skipping tag 4\n",
      "  \" Skipping tag %s\" % (size, len(data), tag))\n",
      "/usr/lib/python3/dist-packages/PIL/TiffImagePlugin.py:739: UserWarning: Possibly corrupt EXIF data.  Expecting to read 317718528 bytes but only got 4956. Skipping tag 4\n",
      "  \" Skipping tag %s\" % (size, len(data), tag))\n",
      "/usr/lib/python3/dist-packages/PIL/TiffImagePlugin.py:739: UserWarning: Possibly corrupt EXIF data.  Expecting to read 131073 bytes but only got 4952. Skipping tag 0\n",
      "  \" Skipping tag %s\" % (size, len(data), tag))\n",
      "/usr/lib/python3/dist-packages/PIL/TiffImagePlugin.py:739: UserWarning: Possibly corrupt EXIF data.  Expecting to read 393216 bytes but only got 0. Skipping tag 3\n",
      "  \" Skipping tag %s\" % (size, len(data), tag))\n",
      "/usr/lib/python3/dist-packages/PIL/TiffImagePlugin.py:739: UserWarning: Possibly corrupt EXIF data.  Expecting to read 287178752 bytes but only got 0. Skipping tag 5\n",
      "  \" Skipping tag %s\" % (size, len(data), tag))\n",
      "/usr/lib/python3/dist-packages/PIL/TiffImagePlugin.py:739: UserWarning: Possibly corrupt EXIF data.  Expecting to read 287703040 bytes but only got 0. Skipping tag 5\n",
      "  \" Skipping tag %s\" % (size, len(data), tag))\n",
      "/usr/lib/python3/dist-packages/PIL/TiffImagePlugin.py:739: UserWarning: Possibly corrupt EXIF data.  Expecting to read 131072 bytes but only got 0. Skipping tag 3\n",
      "  \" Skipping tag %s\" % (size, len(data), tag))\n",
      "/usr/lib/python3/dist-packages/PIL/TiffImagePlugin.py:739: UserWarning: Possibly corrupt EXIF data.  Expecting to read 524288 bytes but only got 0. Skipping tag 4\n",
      "  \" Skipping tag %s\" % (size, len(data), tag))\n",
      "/usr/lib/python3/dist-packages/PIL/TiffImagePlugin.py:739: UserWarning: Possibly corrupt EXIF data.  Expecting to read 286654464 bytes but only got 4956. Skipping tag 4\n",
      "  \" Skipping tag %s\" % (size, len(data), tag))\n",
      "/usr/lib/python3/dist-packages/PIL/TiffImagePlugin.py:756: UserWarning: Corrupt EXIF data.  Expecting to read 12 bytes but only got 2. \n",
      "  warnings.warn(str(msg))\n"
     ]
    },
    {
     "name": "stdout",
     "output_type": "stream",
     "text": [
      "41/95 [===========>..................] - ETA: 39s - loss: 0.7773 - acc: 0.5709"
     ]
    },
    {
     "name": "stderr",
     "output_type": "stream",
     "text": [
      "/usr/lib/python3/dist-packages/PIL/TiffImagePlugin.py:739: UserWarning: Possibly corrupt EXIF data.  Expecting to read 307363840 bytes but only got 0. Skipping tag 5\n",
      "  \" Skipping tag %s\" % (size, len(data), tag))\n",
      "/usr/lib/python3/dist-packages/PIL/TiffImagePlugin.py:739: UserWarning: Possibly corrupt EXIF data.  Expecting to read 307888128 bytes but only got 0. Skipping tag 5\n",
      "  \" Skipping tag %s\" % (size, len(data), tag))\n",
      "/usr/lib/python3/dist-packages/PIL/TiffImagePlugin.py:739: UserWarning: Possibly corrupt EXIF data.  Expecting to read 328728576 bytes but only got 0. Skipping tag 4\n",
      "  \" Skipping tag %s\" % (size, len(data), tag))\n",
      "/usr/lib/python3/dist-packages/PIL/TiffImagePlugin.py:739: UserWarning: Possibly corrupt EXIF data.  Expecting to read 1385474 bytes but only got 5357. Skipping tag 513\n",
      "  \" Skipping tag %s\" % (size, len(data), tag))\n",
      "/usr/lib/python3/dist-packages/PIL/TiffImagePlugin.py:739: UserWarning: Possibly corrupt EXIF data.  Expecting to read 3846701056 bytes but only got 0. Skipping tag 2\n",
      "  \" Skipping tag %s\" % (size, len(data), tag))\n",
      "/usr/lib/python3/dist-packages/PIL/TiffImagePlugin.py:739: UserWarning: Possibly corrupt EXIF data.  Expecting to read 196867 bytes but only got 5357. Skipping tag 0\n",
      "  \" Skipping tag %s\" % (size, len(data), tag))\n",
      "/usr/lib/python3/dist-packages/PIL/TiffImagePlugin.py:756: UserWarning: Corrupt EXIF data.  Expecting to read 12 bytes but only got 8. \n",
      "  warnings.warn(str(msg))\n"
     ]
    },
    {
     "name": "stdout",
     "output_type": "stream",
     "text": [
      "78/95 [=======================>......] - ETA: 12s - loss: 0.7221 - acc: 0.5896"
     ]
    },
    {
     "name": "stderr",
     "output_type": "stream",
     "text": [
      "/usr/lib/python3/dist-packages/PIL/TiffImagePlugin.py:739: UserWarning: Possibly corrupt EXIF data.  Expecting to read 404094976 bytes but only got 0. Skipping tag 5\n",
      "  \" Skipping tag %s\" % (size, len(data), tag))\n",
      "/usr/lib/python3/dist-packages/PIL/TiffImagePlugin.py:739: UserWarning: Possibly corrupt EXIF data.  Expecting to read 404619264 bytes but only got 0. Skipping tag 5\n",
      "  \" Skipping tag %s\" % (size, len(data), tag))\n",
      "/usr/lib/python3/dist-packages/PIL/TiffImagePlugin.py:739: UserWarning: Possibly corrupt EXIF data.  Expecting to read 425459712 bytes but only got 0. Skipping tag 4\n",
      "  \" Skipping tag %s\" % (size, len(data), tag))\n",
      "/usr/lib/python3/dist-packages/PIL/TiffImagePlugin.py:739: UserWarning: Possibly corrupt EXIF data.  Expecting to read 1385474 bytes but only got 6833. Skipping tag 513\n",
      "  \" Skipping tag %s\" % (size, len(data), tag))\n",
      "/usr/lib/python3/dist-packages/PIL/TiffImagePlugin.py:739: UserWarning: Possibly corrupt EXIF data.  Expecting to read 196867 bytes but only got 6833. Skipping tag 0\n",
      "  \" Skipping tag %s\" % (size, len(data), tag))\n"
     ]
    },
    {
     "name": "stdout",
     "output_type": "stream",
     "text": [
      "84/95 [=========================>....] - ETA: 8s - loss: 0.7170 - acc: 0.5913"
     ]
    },
    {
     "name": "stderr",
     "output_type": "stream",
     "text": [
      "/usr/lib/python3/dist-packages/PIL/TiffImagePlugin.py:739: UserWarning: Possibly corrupt EXIF data.  Expecting to read 32 bytes but only got 0. Skipping tag 270\n",
      "  \" Skipping tag %s\" % (size, len(data), tag))\n",
      "/usr/lib/python3/dist-packages/PIL/TiffImagePlugin.py:739: UserWarning: Possibly corrupt EXIF data.  Expecting to read 5 bytes but only got 0. Skipping tag 271\n",
      "  \" Skipping tag %s\" % (size, len(data), tag))\n",
      "/usr/lib/python3/dist-packages/PIL/TiffImagePlugin.py:739: UserWarning: Possibly corrupt EXIF data.  Expecting to read 8 bytes but only got 0. Skipping tag 272\n",
      "  \" Skipping tag %s\" % (size, len(data), tag))\n",
      "/usr/lib/python3/dist-packages/PIL/TiffImagePlugin.py:739: UserWarning: Possibly corrupt EXIF data.  Expecting to read 8 bytes but only got 0. Skipping tag 282\n",
      "  \" Skipping tag %s\" % (size, len(data), tag))\n",
      "/usr/lib/python3/dist-packages/PIL/TiffImagePlugin.py:739: UserWarning: Possibly corrupt EXIF data.  Expecting to read 8 bytes but only got 0. Skipping tag 283\n",
      "  \" Skipping tag %s\" % (size, len(data), tag))\n",
      "/usr/lib/python3/dist-packages/PIL/TiffImagePlugin.py:739: UserWarning: Possibly corrupt EXIF data.  Expecting to read 20 bytes but only got 0. Skipping tag 306\n",
      "  \" Skipping tag %s\" % (size, len(data), tag))\n",
      "/usr/lib/python3/dist-packages/PIL/TiffImagePlugin.py:739: UserWarning: Possibly corrupt EXIF data.  Expecting to read 48 bytes but only got 0. Skipping tag 532\n",
      "  \" Skipping tag %s\" % (size, len(data), tag))\n",
      "/usr/lib/python3/dist-packages/PIL/TiffImagePlugin.py:756: UserWarning: Corrupt EXIF data.  Expecting to read 2 bytes but only got 0. \n",
      "  warnings.warn(str(msg))\n"
     ]
    },
    {
     "name": "stdout",
     "output_type": "stream",
     "text": [
      "91/95 [===========================>..] - ETA: 2s - loss: 0.7117 - acc: 0.5934"
     ]
    },
    {
     "name": "stderr",
     "output_type": "stream",
     "text": [
      "/usr/lib/python3/dist-packages/PIL/TiffImagePlugin.py:739: UserWarning: Possibly corrupt EXIF data.  Expecting to read 18350080 bytes but only got 0. Skipping tag 0\n",
      "  \" Skipping tag %s\" % (size, len(data), tag))\n",
      "/usr/lib/python3/dist-packages/PIL/TiffImagePlugin.py:756: UserWarning: Corrupt EXIF data.  Expecting to read 12 bytes but only got 6. \n",
      "  warnings.warn(str(msg))\n"
     ]
    },
    {
     "name": "stdout",
     "output_type": "stream",
     "text": [
      "95/95 [==============================] - 95s 997ms/step - loss: 0.7070 - acc: 0.5970 - val_loss: 1.0036 - val_acc: 0.5076\n",
      "Epoch 2/30\n",
      "95/95 [==============================] - 99s 1s/step - loss: 0.6347 - acc: 0.6404 - val_loss: 0.7704 - val_acc: 0.5807\n",
      "Epoch 3/30\n",
      "95/95 [==============================] - 101s 1s/step - loss: 0.5809 - acc: 0.6945 - val_loss: 0.6031 - val_acc: 0.6539\n",
      "Epoch 4/30\n",
      "95/95 [==============================] - 97s 1s/step - loss: 0.5489 - acc: 0.7157 - val_loss: 0.5748 - val_acc: 0.7112\n",
      "Epoch 5/30\n",
      "95/95 [==============================] - 98s 1s/step - loss: 0.5308 - acc: 0.7312 - val_loss: 0.6418 - val_acc: 0.6856\n",
      "Epoch 6/30\n",
      "95/95 [==============================] - 92s 968ms/step - loss: 0.5057 - acc: 0.7480 - val_loss: 0.5158 - val_acc: 0.7453\n",
      "Epoch 7/30\n",
      "95/95 [==============================] - 90s 946ms/step - loss: 0.4827 - acc: 0.7664 - val_loss: 0.4827 - val_acc: 0.7696\n",
      "Epoch 8/30\n",
      "95/95 [==============================] - 92s 963ms/step - loss: 0.4630 - acc: 0.7807 - val_loss: 0.4982 - val_acc: 0.7592\n",
      "Epoch 9/30\n",
      "95/95 [==============================] - 91s 961ms/step - loss: 0.4265 - acc: 0.8028 - val_loss: 0.4166 - val_acc: 0.8111\n",
      "Epoch 10/30\n",
      "95/95 [==============================] - 95s 1s/step - loss: 0.4134 - acc: 0.8077 - val_loss: 0.4409 - val_acc: 0.7952\n",
      "Epoch 11/30\n",
      "95/95 [==============================] - 98s 1s/step - loss: 0.3872 - acc: 0.8253 - val_loss: 0.3844 - val_acc: 0.8227\n",
      "Epoch 12/30\n",
      "95/95 [==============================] - 94s 991ms/step - loss: 0.3621 - acc: 0.8402 - val_loss: 0.4009 - val_acc: 0.8156\n",
      "Epoch 13/30\n",
      "95/95 [==============================] - 90s 947ms/step - loss: 0.3427 - acc: 0.8495 - val_loss: 0.3783 - val_acc: 0.8295\n",
      "Epoch 14/30\n",
      "95/95 [==============================] - 94s 991ms/step - loss: 0.3294 - acc: 0.8525 - val_loss: 0.3491 - val_acc: 0.8397\n",
      "Epoch 15/30\n",
      "95/95 [==============================] - 92s 972ms/step - loss: 0.3051 - acc: 0.8675 - val_loss: 0.4898 - val_acc: 0.7753\n",
      "Epoch 16/30\n",
      "95/95 [==============================] - 88s 931ms/step - loss: 0.2929 - acc: 0.8715 - val_loss: 0.3722 - val_acc: 0.8321\n",
      "Epoch 17/30\n",
      "95/95 [==============================] - 87s 917ms/step - loss: 0.2964 - acc: 0.8743 - val_loss: 0.3027 - val_acc: 0.8722\n",
      "Epoch 18/30\n",
      "95/95 [==============================] - 89s 934ms/step - loss: 0.2684 - acc: 0.8853 - val_loss: 0.2850 - val_acc: 0.8717\n",
      "Epoch 19/30\n",
      "95/95 [==============================] - 87s 921ms/step - loss: 0.2685 - acc: 0.8847 - val_loss: 0.2986 - val_acc: 0.8710\n",
      "Epoch 20/30\n",
      "95/95 [==============================] - 88s 929ms/step - loss: 0.2575 - acc: 0.8904 - val_loss: 0.2789 - val_acc: 0.8871\n",
      "Epoch 21/30\n",
      "95/95 [==============================] - 88s 926ms/step - loss: 0.2526 - acc: 0.8933 - val_loss: 0.2749 - val_acc: 0.8828\n",
      "Epoch 22/30\n",
      "95/95 [==============================] - 88s 928ms/step - loss: 0.2422 - acc: 0.8975 - val_loss: 0.3009 - val_acc: 0.8762\n",
      "Epoch 23/30\n",
      "95/95 [==============================] - 89s 932ms/step - loss: 0.2408 - acc: 0.8982 - val_loss: 0.2726 - val_acc: 0.8826\n",
      "Epoch 24/30\n",
      "95/95 [==============================] - 88s 921ms/step - loss: 0.2302 - acc: 0.9010 - val_loss: 0.2739 - val_acc: 0.8847\n",
      "Epoch 25/30\n",
      "95/95 [==============================] - 89s 932ms/step - loss: 0.2245 - acc: 0.9061 - val_loss: 0.6121 - val_acc: 0.7763\n",
      "Epoch 26/30\n",
      "95/95 [==============================] - 88s 929ms/step - loss: 0.2235 - acc: 0.9063 - val_loss: 0.2557 - val_acc: 0.8942\n",
      "Epoch 27/30\n",
      "95/95 [==============================] - 85s 899ms/step - loss: 0.2142 - acc: 0.9093 - val_loss: 0.3410 - val_acc: 0.8577\n",
      "Epoch 28/30\n",
      "95/95 [==============================] - 86s 904ms/step - loss: 0.2088 - acc: 0.9133 - val_loss: 0.2752 - val_acc: 0.8838\n",
      "Epoch 29/30\n",
      "95/95 [==============================] - 87s 912ms/step - loss: 0.2118 - acc: 0.9113 - val_loss: 0.2830 - val_acc: 0.8807\n",
      "Epoch 30/30\n",
      "95/95 [==============================] - 86s 903ms/step - loss: 0.2048 - acc: 0.9153 - val_loss: 0.2695 - val_acc: 0.8852\n",
      "Epoch 1/10\n",
      "95/95 [==============================] - 91s 958ms/step - loss: 0.1954 - acc: 0.9178 - val_loss: 0.2277 - val_acc: 0.9029\n",
      "Epoch 2/10\n",
      "95/95 [==============================] - 94s 985ms/step - loss: 0.1803 - acc: 0.9268 - val_loss: 0.2118 - val_acc: 0.9079\n",
      "Epoch 3/10\n",
      "95/95 [==============================] - 94s 986ms/step - loss: 0.1767 - acc: 0.9288 - val_loss: 0.2073 - val_acc: 0.9150\n",
      "Epoch 4/10\n",
      "95/95 [==============================] - 96s 1s/step - loss: 0.1747 - acc: 0.9294 - val_loss: 0.2092 - val_acc: 0.9129\n",
      "Epoch 5/10\n",
      "95/95 [==============================] - 95s 999ms/step - loss: 0.1785 - acc: 0.9272 - val_loss: 0.2128 - val_acc: 0.9093\n",
      "Epoch 6/10\n",
      "95/95 [==============================] - 93s 981ms/step - loss: 0.1690 - acc: 0.9333 - val_loss: 0.2030 - val_acc: 0.9157\n",
      "Epoch 7/10\n",
      "95/95 [==============================] - 89s 939ms/step - loss: 0.1695 - acc: 0.9326 - val_loss: 0.1983 - val_acc: 0.9193\n",
      "Epoch 8/10\n",
      "95/95 [==============================] - 88s 929ms/step - loss: 0.1716 - acc: 0.9296 - val_loss: 0.1962 - val_acc: 0.9188\n",
      "Epoch 9/10\n",
      "95/95 [==============================] - 88s 928ms/step - loss: 0.1635 - acc: 0.9337 - val_loss: 0.2094 - val_acc: 0.9145\n",
      "Epoch 10/10\n",
      "95/95 [==============================] - 89s 938ms/step - loss: 0.1703 - acc: 0.9297 - val_loss: 0.2002 - val_acc: 0.9162\n"
     ]
    }
   ],
   "source": [
    "try:\n",
    "    model.load_weights('weights1.h5', by_name=True)\n",
    "    print(\"reading weights done.\")\n",
    "    \n",
    "# train data generator is separated from validation data generator\n",
    "# that's because we don't apply data augmentation to validation data\n",
    "finally:\n",
    "\n",
    "    train_datagen = ImageDataGenerator(rescale=1./255,\n",
    "                                       rotation_range=40,\n",
    "                                       width_shift_range=0.2,\n",
    "                                       height_shift_range=0.2,\n",
    "                                       shear_range=0.2,\n",
    "                                       zoom_range=0.2,\n",
    "                                       horizontal_flip=True,\n",
    "                                       fill_mode='nearest')\n",
    "\n",
    "    train_gen = train_datagen.flow_from_directory(train_dir,\n",
    "                                                  target_size=(160, 160),\n",
    "                                                  batch_size=128,\n",
    "                                                  class_mode='binary')\n",
    "\n",
    "    test_datagen = ImageDataGenerator(rescale=1./255)\n",
    "    test_gen = train_datagen.flow_from_directory(test_dir,\n",
    "                                                 target_size=(160, 160),\n",
    "                                                 batch_size=128,\n",
    "                                                 class_mode='binary')\n",
    "    \n",
    "    model.compile(loss='binary_crossentropy',\n",
    "                  optimizer=Nadam(lr=1e-3),\n",
    "                  metrics=['acc'])\n",
    "\n",
    "    model.fit_generator(\n",
    "          train_gen,\n",
    "          steps_per_epoch=95,\n",
    "          epochs=30,\n",
    "          validation_data=test_gen,\n",
    "          validation_steps=33)\n",
    "\n",
    "    \n",
    "# learning rate is smaller for better accuracy\n",
    "    model.compile(loss='binary_crossentropy',\n",
    "                  optimizer=Nadam(lr=1e-5),\n",
    "                  metrics=['acc'])\n",
    "\n",
    "    model.fit_generator(\n",
    "          train_gen,\n",
    "          steps_per_epoch=95,\n",
    "          epochs=10,\n",
    "          validation_data=test_gen,\n",
    "          validation_steps=33)\n",
    "    \n",
    "    model.save_weights('weights1.h5')"
   ]
  },
  {
   "cell_type": "markdown",
   "metadata": {},
   "source": [
    "As you can see the accuracy of the model passed %93 on training set and %91 on test set"
   ]
  }
 ],
 "metadata": {
  "kernelspec": {
   "display_name": "Python 3",
   "language": "python",
   "name": "python3"
  },
  "language_info": {
   "codemirror_mode": {
    "name": "ipython",
    "version": 3
   },
   "file_extension": ".py",
   "mimetype": "text/x-python",
   "name": "python",
   "nbconvert_exporter": "python",
   "pygments_lexer": "ipython3",
   "version": "3.6.8"
  }
 },
 "nbformat": 4,
 "nbformat_minor": 2
}
