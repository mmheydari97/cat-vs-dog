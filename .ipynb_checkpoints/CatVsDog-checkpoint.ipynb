{
 "cells": [
  {
   "cell_type": "markdown",
   "metadata": {},
   "source": [
    "# Importing modules"
   ]
  },
  {
   "cell_type": "code",
   "execution_count": null,
   "metadata": {
    "scrolled": true
   },
   "outputs": [],
   "source": [
    "import os\n",
    "from keras.layers import Dense, Conv2D, MaxPooling2D, Flatten, BatchNormalization, ELU\n",
    "from keras.models import Sequential\n",
    "from keras.optimizers import Nadam\n",
    "from keras.preprocessing.image import ImageDataGenerator"
   ]
  },
  {
   "cell_type": "markdown",
   "metadata": {},
   "source": [
    "# train set and test set directory"
   ]
  },
  {
   "cell_type": "code",
   "execution_count": null,
   "metadata": {},
   "outputs": [],
   "source": [
    "train_dir = os.path.join(os.curdir, \"dataset/train\")\n",
    "test_dir = os.path.join(os.curdir, \"dataset/test\")"
   ]
  },
  {
   "cell_type": "markdown",
   "metadata": {},
   "source": [
    "# Defining the model"
   ]
  },
  {
   "cell_type": "code",
   "execution_count": null,
   "metadata": {},
   "outputs": [],
   "source": [
    "model = Sequential()\n",
    "\n",
    "model.add(Conv2D(32, (5, 5), input_shape=(160, 160, 3), activation='relu'))\n",
    "model.add(MaxPooling2D(2, 2))\n",
    "\n",
    "model.add(Conv2D(64, (3, 3), activation='relu'))\n",
    "model.add(MaxPooling2D(2, 2))\n",
    "\n",
    "model.add(Conv2D(128, (3, 3), activation='relu'))\n",
    "model.add(MaxPooling2D(2, 2))\n",
    "\n",
    "model.add(Conv2D(128, (3, 3), activation='relu'))\n",
    "model.add(MaxPooling2D(2, 2))\n",
    "\n",
    "model.add(Flatten())\n",
    "model.add(BatchNormalization())\n",
    "model.add(Dense(512))\n",
    "model.add(ELU())\n",
    "model.add(Dense(128))\n",
    "model.add(ELU())\n",
    "model.add(BatchNormalization())\n",
    "model.add(Dense(1, activation='sigmoid'))"
   ]
  },
  {
   "cell_type": "markdown",
   "metadata": {},
   "source": [
    "# Description of the model"
   ]
  },
  {
   "cell_type": "code",
   "execution_count": null,
   "metadata": {},
   "outputs": [],
   "source": [
    "print(model.summary())"
   ]
  },
  {
   "cell_type": "markdown",
   "metadata": {},
   "source": [
    "# Trying to load previous work"
   ]
  },
  {
   "cell_type": "code",
   "execution_count": null,
   "metadata": {},
   "outputs": [],
   "source": [
    "try:\n",
    "    model.load_weights('weights1.h5', by_name=True)\n",
    "    print(\"reading weights done.\")\n",
    "    \n",
    "# train data generator is separated from validation data generator\n",
    "# that's because we don't apply data augmentation to validation data\n",
    "finally:\n",
    "\n",
    "    train_datagen = ImageDataGenerator(rescale=1./255,\n",
    "                                       rotation_range=40,\n",
    "                                       width_shift_range=0.2,\n",
    "                                       height_shift_range=0.2,\n",
    "                                       shear_range=0.2,\n",
    "                                       zoom_range=0.2,\n",
    "                                       horizontal_flip=True,\n",
    "                                       fill_mode='nearest')\n",
    "\n",
    "    train_gen = train_datagen.flow_from_directory(train_dir,\n",
    "                                                  target_size=(160, 160),\n",
    "                                                  batch_size=128,\n",
    "                                                  class_mode='binary')\n",
    "\n",
    "    test_datagen = ImageDataGenerator(rescale=1./255)\n",
    "    test_gen = train_datagen.flow_from_directory(test_dir,\n",
    "                                                 target_size=(160, 160),\n",
    "                                                 batch_size=128,\n",
    "                                                 class_mode='binary')\n",
    "    \n",
    "    model.compile(loss='binary_crossentropy',\n",
    "                  optimizer=Nadam(lr=1e-3),\n",
    "                  metrics=['acc'])\n",
    "\n",
    "    model.fit_generator(\n",
    "          train_gen,\n",
    "          steps_per_epoch=95,\n",
    "          epochs=30,\n",
    "          validation_data=test_gen,\n",
    "          validation_steps=33)\n",
    "\n",
    "    \n",
    "# learning rate is smaller for better accuracy\n",
    "    model.compile(loss='binary_crossentropy',\n",
    "                  optimizer=Nadam(lr=1e-5),\n",
    "                  metrics=['acc'])\n",
    "\n",
    "    model.fit_generator(\n",
    "          train_gen,\n",
    "          steps_per_epoch=95,\n",
    "          epochs=10,\n",
    "          validation_data=test_gen,\n",
    "          validation_steps=33)\n",
    "    \n",
    "    model.save_weights('weights1.h5')"
   ]
  },
  {
   "cell_type": "markdown",
   "metadata": {},
   "source": [
    "As you can see the accuracy of the model passed %93 on training set and %91 on test set"
   ]
  }
 ],
 "metadata": {
  "kernelspec": {
   "display_name": "Python 3",
   "language": "python",
   "name": "python3"
  },
  "language_info": {
   "codemirror_mode": {
    "name": "ipython",
    "version": 3
   },
   "file_extension": ".py",
   "mimetype": "text/x-python",
   "name": "python",
   "nbconvert_exporter": "python",
   "pygments_lexer": "ipython3",
   "version": "3.7.3"
  }
 },
 "nbformat": 4,
 "nbformat_minor": 2
}
